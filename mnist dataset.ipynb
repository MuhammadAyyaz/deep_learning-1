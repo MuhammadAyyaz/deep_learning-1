{
 "cells": [
  {
   "cell_type": "code",
   "execution_count": 449,
   "metadata": {},
   "outputs": [],
   "source": [
    "from keras.layers import Dense"
   ]
  },
  {
   "cell_type": "code",
   "execution_count": 450,
   "metadata": {},
   "outputs": [],
   "source": [
    "from keras.optimizers import Adam\n",
    "from keras.models import Sequential\n"
   ]
  },
  {
   "cell_type": "code",
   "execution_count": 478,
   "metadata": {},
   "outputs": [],
   "source": [
    "model=Sequential((Dense(512, input_shape=(28*28, ), activation='relu'),\n",
    "                  Dense(512, activation='relu'),\n",
    "                  Dense(128, activation='relu'),\n",
    "                  Dense(128, activation='relu'),\n",
    "                  Dense(10, activation='softmax') \n",
    "                   \n",
    "                    \n",
    "))"
   ]
  },
  {
   "cell_type": "code",
   "execution_count": 479,
   "metadata": {},
   "outputs": [
    {
     "name": "stdout",
     "output_type": "stream",
     "text": [
      "_________________________________________________________________\n",
      "Layer (type)                 Output Shape              Param #   \n",
      "=================================================================\n",
      "dense_138 (Dense)            (None, 512)               401920    \n",
      "_________________________________________________________________\n",
      "dense_139 (Dense)            (None, 512)               262656    \n",
      "_________________________________________________________________\n",
      "dense_140 (Dense)            (None, 128)               65664     \n",
      "_________________________________________________________________\n",
      "dense_141 (Dense)            (None, 128)               16512     \n",
      "_________________________________________________________________\n",
      "dense_142 (Dense)            (None, 10)                1290      \n",
      "=================================================================\n",
      "Total params: 748,042\n",
      "Trainable params: 748,042\n",
      "Non-trainable params: 0\n",
      "_________________________________________________________________\n"
     ]
    }
   ],
   "source": [
    "model.summary()"
   ]
  },
  {
   "cell_type": "code",
   "execution_count": 480,
   "metadata": {},
   "outputs": [],
   "source": [
    "from keras.datasets import mnist"
   ]
  },
  {
   "cell_type": "code",
   "execution_count": 481,
   "metadata": {},
   "outputs": [],
   "source": [
    "(train_images,train_labels),(test_images,test_labels)=mnist.load_data()"
   ]
  },
  {
   "cell_type": "code",
   "execution_count": 482,
   "metadata": {},
   "outputs": [
    {
     "data": {
      "text/plain": [
       "(60000, 28, 28)"
      ]
     },
     "execution_count": 482,
     "metadata": {},
     "output_type": "execute_result"
    }
   ],
   "source": [
    "train_images.shape"
   ]
  },
  {
   "cell_type": "code",
   "execution_count": 483,
   "metadata": {},
   "outputs": [],
   "source": [
    "model.compile(Adam(lr=.0001) ,loss='categorical_crossentropy', metrics=['accuracy'])\n",
    "train_images=train_images.reshape((60000,28*28))\n",
    "train_images=train_images.astype('float32')/ 255\n",
    "test_images=test_images.reshape((10000,28*28))\n",
    "test_images=test_images.astype('float32')/ 255\n"
   ]
  },
  {
   "cell_type": "code",
   "execution_count": 484,
   "metadata": {},
   "outputs": [
    {
     "data": {
      "text/plain": [
       "(60000,)"
      ]
     },
     "execution_count": 484,
     "metadata": {},
     "output_type": "execute_result"
    }
   ],
   "source": [
    "train_labels.shape"
   ]
  },
  {
   "cell_type": "code",
   "execution_count": 485,
   "metadata": {},
   "outputs": [],
   "source": [
    "from keras.utils import to_categorical"
   ]
  },
  {
   "cell_type": "code",
   "execution_count": 486,
   "metadata": {},
   "outputs": [],
   "source": [
    "train_labels=to_categorical(train_labels)\n",
    "test_labels=to_categorical(test_labels)\n"
   ]
  },
  {
   "cell_type": "code",
   "execution_count": 487,
   "metadata": {},
   "outputs": [
    {
     "data": {
      "text/plain": [
       "(10000, 10)"
      ]
     },
     "execution_count": 487,
     "metadata": {},
     "output_type": "execute_result"
    }
   ],
   "source": [
    "test_labels.shape"
   ]
  },
  {
   "cell_type": "code",
   "execution_count": 488,
   "metadata": {},
   "outputs": [
    {
     "name": "stdout",
     "output_type": "stream",
     "text": [
      "Epoch 1/26\n",
      "60000/60000 [==============================] - 23s 380us/step - loss: 1.0468 - acc: 0.7533\n",
      "Epoch 2/26\n",
      "60000/60000 [==============================] - 12s 204us/step - loss: 0.2799 - acc: 0.9219\n",
      "Epoch 3/26\n",
      "60000/60000 [==============================] - 9s 149us/step - loss: 0.2097 - acc: 0.9402\n",
      "Epoch 4/26\n",
      "60000/60000 [==============================] - 9s 149us/step - loss: 0.1706 - acc: 0.9519\n",
      "Epoch 5/26\n",
      "60000/60000 [==============================] - 10s 160us/step - loss: 0.1447 - acc: 0.9588\n",
      "Epoch 6/26\n",
      "60000/60000 [==============================] - 10s 168us/step - loss: 0.1251 - acc: 0.9645\n",
      "Epoch 7/26\n",
      "60000/60000 [==============================] - 11s 180us/step - loss: 0.1102 - acc: 0.9687\n",
      "Epoch 8/26\n",
      "60000/60000 [==============================] - 11s 175us/step - loss: 0.0977 - acc: 0.9726\n",
      "Epoch 9/26\n",
      "60000/60000 [==============================] - 10s 175us/step - loss: 0.0874 - acc: 0.9753\n",
      "Epoch 10/26\n",
      "60000/60000 [==============================] - 11s 176us/step - loss: 0.0783 - acc: 0.9779\n",
      "Epoch 11/26\n",
      "60000/60000 [==============================] - 11s 184us/step - loss: 0.0697 - acc: 0.9803\n",
      "Epoch 12/26\n",
      "60000/60000 [==============================] - 12s 193us/step - loss: 0.0630 - acc: 0.9823\n",
      "Epoch 13/26\n",
      "60000/60000 [==============================] - 12s 202us/step - loss: 0.0571 - acc: 0.9841\n",
      "Epoch 14/26\n",
      "60000/60000 [==============================] - 11s 186us/step - loss: 0.0527 - acc: 0.9856\n",
      "Epoch 15/26\n",
      "60000/60000 [==============================] - 11s 179us/step - loss: 0.0473 - acc: 0.9871\n",
      "Epoch 16/26\n",
      "60000/60000 [==============================] - 11s 177us/step - loss: 0.0421 - acc: 0.9888\n",
      "Epoch 17/26\n",
      "60000/60000 [==============================] - 11s 184us/step - loss: 0.0380 - acc: 0.9898\n",
      "Epoch 18/26\n",
      "60000/60000 [==============================] - 12s 206us/step - loss: 0.0355 - acc: 0.9905\n",
      "Epoch 19/26\n",
      "60000/60000 [==============================] - 12s 202us/step - loss: 0.0312 - acc: 0.9920\n",
      "Epoch 20/26\n",
      "60000/60000 [==============================] - 12s 206us/step - loss: 0.0285 - acc: 0.9926\n",
      "Epoch 21/26\n",
      "60000/60000 [==============================] - 12s 206us/step - loss: 0.0258 - acc: 0.9937\n",
      "Epoch 22/26\n",
      "60000/60000 [==============================] - 12s 207us/step - loss: 0.0234 - acc: 0.9942\n",
      "Epoch 23/26\n",
      "60000/60000 [==============================] - 13s 224us/step - loss: 0.0207 - acc: 0.9951\n",
      "Epoch 24/26\n",
      "60000/60000 [==============================] - 12s 208us/step - loss: 0.0192 - acc: 0.9958\n",
      "Epoch 25/26\n",
      "60000/60000 [==============================] - 13s 213us/step - loss: 0.0170 - acc: 0.9964\n",
      "Epoch 26/26\n",
      "60000/60000 [==============================] - 13s 210us/step - loss: 0.0154 - acc: 0.9969\n"
     ]
    },
    {
     "data": {
      "text/plain": [
       "<keras.callbacks.History at 0x1ddbb7ad898>"
      ]
     },
     "execution_count": 488,
     "metadata": {},
     "output_type": "execute_result"
    }
   ],
   "source": [
    "model.fit(train_images,train_labels, batch_size=512, epochs=26)"
   ]
  },
  {
   "cell_type": "code",
   "execution_count": 489,
   "metadata": {},
   "outputs": [
    {
     "name": "stdout",
     "output_type": "stream",
     "text": [
      "10000/10000 [==============================] - 5s 510us/step\n"
     ]
    }
   ],
   "source": [
    "test_loss,test_accuracy=model.evaluate(test_images,test_labels)"
   ]
  },
  {
   "cell_type": "code",
   "execution_count": 490,
   "metadata": {},
   "outputs": [
    {
     "data": {
      "text/plain": [
       "0.98"
      ]
     },
     "execution_count": 490,
     "metadata": {},
     "output_type": "execute_result"
    }
   ],
   "source": [
    "test_accuracy"
   ]
  },
  {
   "cell_type": "code",
   "execution_count": 491,
   "metadata": {},
   "outputs": [
    {
     "data": {
      "text/plain": [
       "0.06582702809836483"
      ]
     },
     "execution_count": 491,
     "metadata": {},
     "output_type": "execute_result"
    }
   ],
   "source": [
    "test_loss"
   ]
  },
  {
   "cell_type": "code",
   "execution_count": null,
   "metadata": {},
   "outputs": [],
   "source": []
  }
 ],
 "metadata": {
  "kernelspec": {
   "display_name": "Python 3",
   "language": "python",
   "name": "python3"
  },
  "language_info": {
   "codemirror_mode": {
    "name": "ipython",
    "version": 3
   },
   "file_extension": ".py",
   "mimetype": "text/x-python",
   "name": "python",
   "nbconvert_exporter": "python",
   "pygments_lexer": "ipython3",
   "version": "3.6.4"
  }
 },
 "nbformat": 4,
 "nbformat_minor": 2
}
